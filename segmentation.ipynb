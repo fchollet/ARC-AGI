{
 "cells": [
  {
   "cell_type": "markdown",
   "metadata": {
    "vscode": {
     "languageId": "plaintext"
    }
   },
   "source": [
    "# Segmentation Notebook\n",
    "---\n",
    "Notebook to experiment / compare various segmentation algorithms."
   ]
  },
  {
   "cell_type": "code",
   "execution_count": 1,
   "metadata": {},
   "outputs": [],
   "source": [
    "import torch\n",
    "import numpy as np\n",
    "import matplotlib.pyplot as plt\n",
    "\n",
    "from torch.utils.data import DataLoader\n",
    "from data.load_data import load_dataset\n",
    "from source.util import COLOR_TO_HEX, plot_tensors_with_colors, hex_to_rgb"
   ]
  },
  {
   "cell_type": "code",
   "execution_count": 2,
   "metadata": {},
   "outputs": [],
   "source": [
    "train_dataset = load_dataset(mode='training')\n",
    "train_dataloader = DataLoader(train_dataset, batch_size=1, shuffle=True)"
   ]
  },
  {
   "cell_type": "code",
   "execution_count": 3,
   "metadata": {},
   "outputs": [
    {
     "name": "stdout",
     "output_type": "stream",
     "text": [
      "Train Samples:\n",
      "====================================================================================================\n"
     ]
    },
    {
     "data": {
      "image/png": "[encoded data removed]",
      "text/plain": [
       "<Figure size 600x300 with 2 Axes>"
      ]
     },
     "metadata": {},
     "output_type": "display_data"
    },
    {
     "data": {
      "image/png": "[encoded data removed]",
      "text/plain": [
       "<Figure size 600x300 with 2 Axes>"
      ]
     },
     "metadata": {},
     "output_type": "display_data"
    },
    {
     "data": {
      "image/png": "[encoded data removed]",
      "text/plain": [
       "<Figure size 600x300 with 2 Axes>"
      ]
     },
     "metadata": {},
     "output_type": "display_data"
    },
    {
     "data": {
      "image/png": "[encoded data removed]",
      "text/plain": [
       "<Figure size 600x300 with 2 Axes>"
      ]
     },
     "metadata": {},
     "output_type": "display_data"
    },
    {
     "name": "stdout",
     "output_type": "stream",
     "text": [
      "Test Samples:\n",
      "====================================================================================================\n"
     ]
    },
    {
     "data": {
      "image/png": "[encoded data removed]",
      "text/plain": [
       "<Figure size 600x300 with 2 Axes>"
      ]
     },
     "metadata": {},
     "output_type": "display_data"
    }
   ],
   "source": [
    "for i, data in enumerate(train_dataloader):\n",
    "    train = data['train']\n",
    "    test = data['test']\n",
    "    \n",
    "    print(f\"Train Samples:\\n{'='*100}\")\n",
    "    for t in train:\n",
    "        plot_tensors_with_colors([t['input'].squeeze(0), t['output'].squeeze(0)])\n",
    "    \n",
    "    print(f\"Test Samples:\\n{'='*100}\")\n",
    "    for t in test:\n",
    "        plot_tensors_with_colors([t['input'].squeeze(0), t['output'].squeeze(0)])\n",
    "    break"
   ]
  },
  {
   "cell_type": "markdown",
   "metadata": {},
   "source": [
    "## Playing around with CV2\n",
    "---\n",
    "Generate hierarchal representation of contours"
   ]
  },
  {
   "cell_type": "code",
   "execution_count": 4,
   "metadata": {},
   "outputs": [],
   "source": [
    "import cv2"
   ]
  },
  {
   "cell_type": "code",
   "execution_count": 5,
   "metadata": {},
   "outputs": [
    {
     "name": "stderr",
     "output_type": "stream",
     "text": [
      "c:\\Users\\lucas\\Desktop\\UCSD\\291C - Program Synthesis\\Project\\ARC-AGI\\arc-291c\\Lib\\site-packages\\torchvision\\models\\_utils.py:208: UserWarning: The parameter 'pretrained' is deprecated since 0.13 and may be removed in the future, please use 'weights' instead.\n",
      "  warnings.warn(\n",
      "c:\\Users\\lucas\\Desktop\\UCSD\\291C - Program Synthesis\\Project\\ARC-AGI\\arc-291c\\Lib\\site-packages\\torchvision\\models\\_utils.py:223: UserWarning: Arguments other than a weight enum or `None` for 'weights' are deprecated since 0.13 and may be removed in the future. The current behavior is equivalent to passing `weights=ResNet50_Weights.IMAGENET1K_V1`. You can also use `weights=ResNet50_Weights.DEFAULT` to get the most up-to-date weights.\n",
      "  warnings.warn(msg)\n"
     ]
    }
   ],
   "source": [
    "import torchvision.models as models\n",
    "from sklearn.decomposition import PCA\n",
    "import torch.nn.functional as F\n",
    "\n",
    "# Load the pretrained ResNet\n",
    "resnet = models.resnet50(pretrained=True)\n",
    "resnet = torch.nn.Sequential(*list(resnet.children())[:-1])"
   ]
  },
  {
   "cell_type": "code",
   "execution_count": 6,
   "metadata": {},
   "outputs": [],
   "source": [
    "def plot_image_and_mask(image, mask=None, title=\"\"):\n",
    "    \"\"\"\n",
    "    Plot an image tensor with the corresponding mask.\n",
    "\n",
    "    Args:\n",
    "        image (torch.Tensor): A 2D tensor representing the image, with integer values corresponding to keys in COLOR_TO_HEX.\n",
    "        mask (torch.Tensor, optional): A 2D tensor representing the mask, where '1' indicates masked areas.\n",
    "        title (str, optional): The title for the plot.\n",
    "\n",
    "    Returns:\n",
    "        None. The function displays the image with the mask applied (if provided).\n",
    "    \"\"\"\n",
    "    result_image = np.zeros((image.shape[0], image.shape[1], 3), dtype=np.float32)\n",
    "    \n",
    "    for key, hex_value in COLOR_TO_HEX.items():\n",
    "        rgb_value = hex_to_rgb(hex_value)\n",
    "        result_image[image == key] = rgb_value\n",
    "\n",
    "    if mask is not None:\n",
    "        yellow_tint = np.array([255, 255, 153]) / 255.0\n",
    "        result_image[mask == 1] = result_image[mask == 1] * 0.6 + yellow_tint * 0.4\n",
    "\n",
    "    plt.imshow(result_image)\n",
    "    plt.title(title)\n",
    "    plt.axis('off')\n",
    "    plt.show()\n"
   ]
  },
  {
   "cell_type": "code",
   "execution_count": 7,
   "metadata": {},
   "outputs": [],
   "source": [
    "def get_contour_mask(image):\n",
    "    \"\"\"\n",
    "    Apply contour detection to the input image and return the contour masks and hierarchy.\n",
    "\n",
    "    Args:\n",
    "        image (numpy.ndarray): A 2D numpy array representing the input image, with values expected to be between 0 and 9.\n",
    "\n",
    "    Returns:\n",
    "        tuple: A tuple containing:\n",
    "            - list: A list of 2D numpy arrays (mask) where '1' represents contour areas for each contour.\n",
    "            - numpy.ndarray: A hierarchy array describing parent-child contour relationships.\n",
    "    \"\"\"\n",
    "    # Scale image values from 0-9 to 0-255\n",
    "    scaled_image = (image * 255 / 9).astype(np.uint8)\n",
    "    \n",
    "    # Find contours and hierarchy\n",
    "    contours, hierarchy = cv2.findContours(scaled_image, cv2.RETR_TREE, cv2.CHAIN_APPROX_SIMPLE)\n",
    "    \n",
    "    # Create a list of masks for each contour\n",
    "    contour_masks = []\n",
    "    for i in range(len(contours)):\n",
    "        mask = np.zeros_like(scaled_image, dtype=np.uint8)\n",
    "        cv2.drawContours(mask, contours, i, 1, thickness=cv2.FILLED)\n",
    "        contour_masks.append(mask)\n",
    "    \n",
    "    return contour_masks, hierarchy"
   ]
  },
  {
   "cell_type": "code",
   "execution_count": 8,
   "metadata": {},
   "outputs": [],
   "source": [
    "def plot_images_horizontally(image, masks, titles):\n",
    "    \"\"\"\n",
    "    Plot multiple images with masks applied side by side with titles.\n",
    "\n",
    "    Args:\n",
    "        image (numpy.ndarray): The original input image, a 2D numpy array.\n",
    "        masks (list of numpy.ndarray): A list of 2D numpy arrays representing masks where '1' indicates masked areas.\n",
    "        titles (list of str): A list of titles for each image.\n",
    "\n",
    "    Returns:\n",
    "        None. Displays the images with masks applied in a horizontal row.\n",
    "    \"\"\"\n",
    "    num_images = len(masks)\n",
    "    fig, axes = plt.subplots(1, num_images, figsize=(15, 5))\n",
    "\n",
    "    for i, (mask, title) in enumerate(zip(masks, titles)):\n",
    "        # Create the result image with the mask applied\n",
    "        result_image = np.zeros((image.shape[0], image.shape[1], 3), dtype=np.float32)\n",
    "        \n",
    "        # Apply color mapping based on COLOR_TO_HEX\n",
    "        for key, hex_value in COLOR_TO_HEX.items():\n",
    "            rgb_value = hex_to_rgb(hex_value)\n",
    "            result_image[image == key] = rgb_value\n",
    "        \n",
    "        # Apply the mask (if provided)\n",
    "        if mask is not None:\n",
    "            yellow_tint = np.array([255, 255, 153]) / 255.0\n",
    "            result_image[mask == 1] = result_image[mask == 1] * 0.6 + yellow_tint * 0.4\n",
    "        \n",
    "        # Plot the result image\n",
    "        axes[i].imshow(result_image)\n",
    "        axes[i].set_title(title)\n",
    "        axes[i].axis('off')\n",
    "\n",
    "    plt.show()\n",
    "\n",
    "\n",
    "\n",
    "def create_hierarchy_list(hierarchy):\n",
    "    \"\"\"Create a list of children for each parent from the hierarchy.\"\"\"\n",
    "    # Initialize a list of empty lists to hold children for each index\n",
    "    children_list = [[] for _ in range(len(hierarchy))]\n",
    "    \n",
    "    # Populate the list with children based on hierarchy relationships\n",
    "    for idx, h in enumerate(hierarchy):\n",
    "        parent = h[3]  # The parent of the current contour (-1 if no parent)\n",
    "        if parent != -1:\n",
    "            children_list[parent].append(idx)\n",
    "    \n",
    "    return children_list\n",
    "\n",
    "\n",
    "def plot_hierarchal_masks(image, masks, hierarchy):\n",
    "    \"\"\"\n",
    "    Plot hierarchal masks according to the parent-child relationships.\n",
    "\n",
    "    Args:\n",
    "        image (nparray): The original input image.\n",
    "        masks (list of numpy arrays): The contour masks.\n",
    "        hierarchy (numpy.ndarray): The hierarchy array describing parent-child relationships.\n",
    "    \"\"\"\n",
    "    # Create the list of children for each parent using the hierarchy\n",
    "    children_list = create_hierarchy_list(hierarchy[0])  # Access the first hierarchy level\n",
    "\n",
    "    # First, plot the original image\n",
    "    print(\"Original Input Image:\")\n",
    "    plot_image_and_mask(image)\n",
    "\n",
    "    # Recursive function to plot the hierarchy of masks\n",
    "    def plot_recursive(index):\n",
    "        # If the node has children, we plot them in a horizontal row\n",
    "        if children_list[index]:\n",
    "            masks_to_plot = []\n",
    "            titles = []\n",
    "\n",
    "            for child in children_list[index]:\n",
    "                # Prepare the mask for plotting\n",
    "                masks_to_plot.append(masks[child])\n",
    "                titles.append(f\"Contour {child} (Parent: {index})\")\n",
    "\n",
    "            # Plot the masks of children side by side\n",
    "            plot_images_horizontally(image, masks_to_plot, titles)\n",
    "\n",
    "            # Recursively plot the children's children\n",
    "            for child in children_list[index]:\n",
    "                plot_recursive(child)\n",
    "\n",
    "    # Loop through each node and start the recursion for nodes without a parent\n",
    "    for i in range(len(children_list)):\n",
    "        parent = hierarchy[0][i][3]\n",
    "        if parent == -1:  # Root nodes\n",
    "            plot_recursive(i)\n",
    "\n",
    "        # Special case: solitary nodes (no parent and no children)\n",
    "        if not children_list[i] and parent == -1:\n",
    "            # Plot solitary node's mask\n",
    "            plot_image_and_mask(image, masks[i], title=f\"Solitary Contour {i}\")"
   ]
  },
  {
   "cell_type": "code",
   "execution_count": 9,
   "metadata": {},
   "outputs": [],
   "source": [
    "def flood_fill_segmentation(image, seed_points):\n",
    "    \"\"\"\n",
    "    Perform flood fill on an image using provided seed points for each distinct color and return contour masks.\n",
    "\n",
    "    Args:\n",
    "        image (numpy.ndarray): The input image, expected to have distinct colors.\n",
    "        seed_points (list of tuples): List of (x, y) coordinates to start flood fill for each color.\n",
    "\n",
    "    Returns:\n",
    "        contour_masks (list of numpy.ndarray): List of contour masks for each filled region.\n",
    "    \"\"\"\n",
    "    # Ensure the input image is of type uint8\n",
    "    if image.dtype != np.uint8:\n",
    "        flood_filled_image = image.astype(np.uint8)\n",
    "    else:\n",
    "        flood_filled_image = image.copy()\n",
    "\n",
    "    # Create a mask that is 2 pixels larger than the input image\n",
    "    h, w = flood_filled_image.shape[:2]\n",
    "    mask = np.zeros((h + 2, w + 2), np.uint8)\n",
    "\n",
    "    # Define the color difference thresholds\n",
    "    lo_diff = 0  # Lower bound (no difference in color for distinct colors)\n",
    "    up_diff = 0  # Upper bound (no difference in color for distinct colors)\n",
    "\n",
    "    # List to hold the contour masks for each region\n",
    "    contour_masks = []\n",
    "\n",
    "    # Iterate through the provided seed points\n",
    "    for seed_point in seed_points:\n",
    "        # Get the scalar color of the seed point (not a tuple for grayscale/discrete colors)\n",
    "        seed_color = flood_filled_image[seed_point[1], seed_point[0]]\n",
    "        \n",
    "        # Apply flood fill\n",
    "        cv2.floodFill(flood_filled_image, mask, seedPoint=seed_point, newVal=255, loDiff=lo_diff, upDiff=up_diff)\n",
    "        \n",
    "        # Convert the filled region to a binary mask for contour detection\n",
    "        binary_mask = np.zeros_like(flood_filled_image, dtype=np.uint8)\n",
    "        binary_mask[flood_filled_image == 255] = 1\n",
    "\n",
    "        # Find contours for the filled region\n",
    "        contours, _ = cv2.findContours(binary_mask, cv2.RETR_EXTERNAL, cv2.CHAIN_APPROX_SIMPLE)\n",
    "        \n",
    "        # Create a contour mask for this region\n",
    "        contour_mask = np.zeros_like(flood_filled_image, dtype=np.uint8)\n",
    "        cv2.drawContours(contour_mask, contours, -1, 1, thickness=cv2.FILLED)\n",
    "        \n",
    "        # Add the contour mask to the list\n",
    "        contour_masks.append(contour_mask)\n",
    "\n",
    "    return contour_masks"
   ]
  },
  {
   "cell_type": "code",
   "execution_count": 10,
   "metadata": {},
   "outputs": [],
   "source": [
    "def generate_color_masks(image):\n",
    "    \"\"\"\n",
    "    Generate masks for each color in a 2D NumPy array image where pixel values are integers from 0 to 9.\n",
    "\n",
    "    Args:\n",
    "        image (numpy.ndarray): A 2D NumPy array representing the image with integer values between 0 and 9.\n",
    "\n",
    "    Returns:\n",
    "        list of numpy.ndarray: A list of binary masks where '1' represents the presence of a specific color.\n",
    "                               Masks are only returned for colors present in the image.\n",
    "    \"\"\"\n",
    "    masks = []\n",
    "    \n",
    "    # Iterate over the possible values (0 to 9)\n",
    "    for color in range(10):\n",
    "        # Create a binary mask where the pixel value matches the current color\n",
    "        mask = (image == color).astype(np.uint8)\n",
    "        \n",
    "        # Only append the mask if it contains any pixels (i.e., if the color is present)\n",
    "        if np.any(mask):\n",
    "            masks.append(mask)\n",
    "    \n",
    "    return masks"
   ]
  },
  {
   "cell_type": "code",
   "execution_count": 11,
   "metadata": {},
   "outputs": [
    {
     "name": "stdout",
     "output_type": "stream",
     "text": [
      "Train Samples:\n",
      "====================================================================================================\n",
      "Sample 0:\n",
      "====================================================================================================\n"
     ]
    },
    {
     "data": {
      "image/png": "[encoded data removed]",
      "text/plain": [
       "<Figure size 640x480 with 1 Axes>"
      ]
     },
     "metadata": {},
     "output_type": "display_data"
    },
    {
     "name": "stdout",
     "output_type": "stream",
     "text": [
      "\n",
      "Color Masks:\n",
      "====================================================================================================\n"
     ]
    },
    {
     "data": {
      "image/png": "[encoded data removed]",
      "text/plain": [
       "<Figure size 640x480 with 1 Axes>"
      ]
     },
     "metadata": {},
     "output_type": "display_data"
    },
    {
     "data": {
      "image/png": "[encoded data removed]",
      "text/plain": [
       "<Figure size 640x480 with 1 Axes>"
      ]
     },
     "metadata": {},
     "output_type": "display_data"
    },
    {
     "data": {
      "image/png": "[encoded data removed]",
      "text/plain": [
       "<Figure size 640x480 with 1 Axes>"
      ]
     },
     "metadata": {},
     "output_type": "display_data"
    },
    {
     "data": {
      "image/png": "[encoded data removed]",
      "text/plain": [
       "<Figure size 640x480 with 1 Axes>"
      ]
     },
     "metadata": {},
     "output_type": "display_data"
    },
    {
     "data": {
      "image/png": "[encoded data removed]",
      "text/plain": [
       "<Figure size 640x480 with 1 Axes>"
      ]
     },
     "metadata": {},
     "output_type": "display_data"
    },
    {
     "data": {
      "image/png": "[encoded data removed]",
      "text/plain": [
       "<Figure size 640x480 with 1 Axes>"
      ]
     },
     "metadata": {},
     "output_type": "display_data"
    },
    {
     "data": {
      "image/png": "[encoded data removed]",
      "text/plain": [
       "<Figure size 640x480 with 1 Axes>"
      ]
     },
     "metadata": {},
     "output_type": "display_data"
    },
    {
     "data": {
      "image/png": "[encoded data removed]",
      "text/plain": [
       "<Figure size 640x480 with 1 Axes>"
      ]
     },
     "metadata": {},
     "output_type": "display_data"
    },
    {
     "data": {
      "image/png": "[encoded data removed]",
      "text/plain": [
       "<Figure size 640x480 with 1 Axes>"
      ]
     },
     "metadata": {},
     "output_type": "display_data"
    },
    {
     "name": "stdout",
     "output_type": "stream",
     "text": [
      "\n",
      "Flood Masks:\n",
      "====================================================================================================\n"
     ]
    },
    {
     "data": {
      "image/png": "[encoded data removed]",
      "text/plain": [
       "<Figure size 640x480 with 1 Axes>"
      ]
     },
     "metadata": {},
     "output_type": "display_data"
    },
    {
     "name": "stdout",
     "output_type": "stream",
     "text": [
      "\n",
      "Contour Masks:\n",
      "====================================================================================================\n",
      "Original Input Image:\n"
     ]
    },
    {
     "data": {
      "image/png": "[encoded data removed]",
      "text/plain": [
       "<Figure size 640x480 with 1 Axes>"
      ]
     },
     "metadata": {},
     "output_type": "display_data"
    },
    {
     "data": {
      "image/png": "[encoded data removed]",
      "text/plain": [
       "<Figure size 1500x500 with 2 Axes>"
      ]
     },
     "metadata": {},
     "output_type": "display_data"
    }
   ],
   "source": [
    "# Main loop processing data\n",
    "for i, data in enumerate(train_dataloader):\n",
    "    train = data['train']\n",
    "    test = data['test']\n",
    "    \n",
    "    print(f\"Train Samples:\\n{'='*100}\")\n",
    "    for i, t in enumerate(test):\n",
    "        # Will work within numpy for simplicity\n",
    "        input_image = t['input'].squeeze(0).numpy()\n",
    "        output = t['output'].squeeze(0).numpy()\n",
    "\n",
    "        print(f\"Sample {i}:\\n{'='*100}\")\n",
    "        plot_image_and_mask(input_image)\n",
    "\n",
    "        # Extract contours, hierarchy, and mask from the input\n",
    "        print(f\"\\nColor Masks:\\n{'='*100}\")\n",
    "        color_masks = generate_color_masks(input_image)\n",
    "        for mask in color_masks:\n",
    "            plot_image_and_mask(input_image, mask)\n",
    "        \n",
    "        print(f\"\\nFlood Masks:\\n{'='*100}\")\n",
    "        flood_masks = flood_fill_segmentation(input_image, [(0, 0)])\n",
    "        for mask in flood_masks:\n",
    "            plot_image_and_mask(input_image, mask)\n",
    "        \n",
    "        # Extract contours, hierarchy, and mask from the input\n",
    "        print(f\"\\nContour Masks:\\n{'='*100}\")\n",
    "        mask, hierarchy = get_contour_mask(input_image)\n",
    "        plot_hierarchal_masks(input_image, mask, hierarchy)\n",
    "\n",
    "        break\n",
    "    break\n",
    "\n",
    "    # print(f\"Train Samples:\\n{'='*100}\")\n",
    "    # for t in train:\n",
    "    #     # Will work within numpy for simplicity\n",
    "    #     input_image = t['input'].squeeze(0).numpy()\n",
    "    #     output = t['output'].squeeze(0).numpy()\n",
    "\n",
    "\n",
    "    # break"
   ]
  },
  {
   "cell_type": "code",
   "execution_count": 12,
   "metadata": {},
   "outputs": [],
   "source": [
    "def get_embedding(image, display=False):\n",
    "    \"\"\"\n",
    "    Takes an image (numpy array) and returns the embedding of the image using a pretrained ResNet model.\n",
    "\n",
    "    Args:\n",
    "        image (numpy.ndarray): The input image.\n",
    "        display (bool): Prints the image if set to true.\n",
    "    \"\"\"\n",
    "    image_rgb = np.array([[hex_to_rgb(COLOR_TO_HEX[val]) for val in row] for row in image])\n",
    "\n",
    "    # Convert to PyTorch tensor, ensure it is float32 and permute dimensions to [3, height, width]\n",
    "    image_rgb = torch.tensor(image_rgb, dtype=torch.float32).permute(2, 0, 1).unsqueeze(0)  # Add batch dimension\n",
    "\n",
    "    # Resize the image to 224x224 using nearest-neighbor to avoid blurring\n",
    "    ## ISSUE: resizing. Need to fix (if we go down this path)\n",
    "    image_rgb = F.interpolate(image_rgb, size=(224, 224), mode='nearest')\n",
    "\n",
    "    # Display the image\n",
    "    if display:\n",
    "        image_to_display = image_rgb.squeeze(0).permute(1, 2, 0).numpy()\n",
    "        image_to_display = (image_to_display * 255).astype(np.uint8)\n",
    "        plt.imshow(image_to_display)\n",
    "        plt.show()  \n",
    "\n",
    "    # Get embedding from ResNet\n",
    "    with torch.no_grad():\n",
    "        embedding = resnet(image_rgb)\n",
    "\n",
    "    # Flatten the output (ResNet output shape will be [batch_size, 2048, 1, 1] if height and width are large enough)\n",
    "    embedding = embedding.view(embedding.size(0), -1)  # Flatten to [batch_size, 2048]\n",
    "\n",
    "    # Convert to NumPy and apply PCA\n",
    "    embedding_np = embedding.cpu().numpy().T\n",
    "    return embedding_np"
   ]
  },
  {
   "cell_type": "code",
   "execution_count": 13,
   "metadata": {},
   "outputs": [],
   "source": [
    "class ARC_Object:\n",
    "    def __init__(self, image, mask):\n",
    "        \"\"\"\n",
    "            ARC_Object class to store the grid and other information of the object in the image.\n",
    "\n",
    "            Args:\n",
    "                image (numpy.ndarray): A 2D numpy array representing the image.\n",
    "                mask (numpy.ndarray): A 2D numpy array representing the mask of the object.\n",
    "        \"\"\"\n",
    "        # Get our positional information and num active pixels\n",
    "        self._init_information(mask)\n",
    "\n",
    "        # Get grid\n",
    "        self.grid = (image * mask)[self.top_left[0]:self.top_left[0] + self.height,\n",
    "                                 self.top_left[1]:self.top_left[1] + self.width]\n",
    "\n",
    "\n",
    "    def _init_information(self, mask):\n",
    "        self.active_pixels = np.sum(mask)\n",
    "        \n",
    "        # Compute our positions\n",
    "        x_nonzeros = np.nonzero(np.sum(mask, axis=0))[0]  # Columns with non-zero values\n",
    "        y_nonzeros = np.nonzero(np.sum(mask, axis=1))[0]  # Rows with non-zero values\n",
    "        self.top_left = (int(y_nonzeros[0]), int(x_nonzeros[0]))\n",
    "        self.width = x_nonzeros[-1] - x_nonzeros[0] + 1\n",
    "        self.height = y_nonzeros[-1] - y_nonzeros[0] + 1\n",
    "\n",
    "\n",
    "    def get_grid(self):\n",
    "        return self.grid\n",
    "    \n",
    "\n",
    "    def plot_grid(self):\n",
    "        plot_image_and_mask(self.grid)\n",
    "\n",
    "\n",
    "    def encode_image(self, image):\n",
    "        self.embedding = get_embedding(image, display=False)"
   ]
  },
  {
   "cell_type": "code",
   "execution_count": 14,
   "metadata": {},
   "outputs": [],
   "source": [
    "def extract_objects(image, method='color_mask'):\n",
    "    \"\"\"\n",
    "        Given an image and extraction method, return a list of ARC_Objects for the image.\n",
    "\n",
    "        Args:\n",
    "            image (nparray): The input image.\n",
    "            method (str): The method to use for object extraction. Options are 'color', 'flood', and 'contour'.    \n",
    "    \"\"\"\n",
    "    objects = []\n",
    "\n",
    "    if method == 'color_mask':\n",
    "        color_masks = generate_color_masks(image)\n",
    "        for mask in color_masks:\n",
    "            objects.append(ARC_Object(image, mask))\n",
    "    elif method == 'flood':\n",
    "        flood_masks = flood_fill_segmentation(image, [(0, 0)])\n",
    "        for mask in flood_masks:\n",
    "            objects.append(ARC_Object(image, mask))\n",
    "    elif method == 'contour':\n",
    "        mask, hierarchy = get_contour_mask(image)\n",
    "        for m in mask:\n",
    "            objects.append(ARC_Object(image, m))\n",
    "    else:\n",
    "        raise ValueError(f\"Invalid method: {method}\")\n",
    "\n",
    "    return objects"
   ]
  },
  {
   "cell_type": "code",
   "execution_count": 15,
   "metadata": {},
   "outputs": [
    {
     "name": "stdout",
     "output_type": "stream",
     "text": [
      "Train Samples:\n",
      "====================================================================================================\n"
     ]
    },
    {
     "data": {
      "image/png": "[encoded data removed]",
      "text/plain": [
       "<Figure size 640x480 with 1 Axes>"
      ]
     },
     "metadata": {},
     "output_type": "display_data"
    },
    {
     "data": {
      "image/png": "[encoded data removed]",
      "text/plain": [
       "<Figure size 640x480 with 1 Axes>"
      ]
     },
     "metadata": {},
     "output_type": "display_data"
    },
    {
     "name": "stdout",
     "output_type": "stream",
     "text": [
      "(8, 1) 1 1\n"
     ]
    },
    {
     "data": {
      "image/png": "[encoded data removed]",
      "text/plain": [
       "<Figure size 640x480 with 1 Axes>"
      ]
     },
     "metadata": {},
     "output_type": "display_data"
    },
    {
     "name": "stdout",
     "output_type": "stream",
     "text": [
      "(0, 0) 12 19\n"
     ]
    },
    {
     "data": {
      "image/png": "[encoded data removed]",
      "text/plain": [
       "<Figure size 640x480 with 1 Axes>"
      ]
     },
     "metadata": {},
     "output_type": "display_data"
    },
    {
     "name": "stdout",
     "output_type": "stream",
     "text": [
      "(5, 4) 1 1\n"
     ]
    },
    {
     "data": {
      "image/png": "[encoded data removed]",
      "text/plain": [
       "<Figure size 640x480 with 1 Axes>"
      ]
     },
     "metadata": {},
     "output_type": "display_data"
    },
    {
     "name": "stdout",
     "output_type": "stream",
     "text": [
      "(0, 0) 12 19\n"
     ]
    }
   ],
   "source": [
    "my_objs = []\n",
    "\n",
    "# Main loop processing data\n",
    "for i, data in enumerate(train_dataloader):\n",
    "    train = data['train']\n",
    "    test = data['test']\n",
    "    \n",
    "    print(f\"Train Samples:\\n{'='*100}\")\n",
    "    for i, t in enumerate(train):\n",
    "        # Will work within numpy for simplicity\n",
    "        input_image = t['input'].squeeze(0).numpy()\n",
    "        output = t['output'].squeeze(0).numpy()\n",
    "        plot_image_and_mask(input_image)\n",
    "        my_objs = extract_objects(input_image, method='color_mask')\n",
    "        break\n",
    "    break\n",
    "\n",
    "for obj in my_objs:\n",
    "    obj.plot_grid()\n",
    "    print(obj.top_left, obj.width, obj.height)"
   ]
  },
  {
   "cell_type": "code",
   "execution_count": 16,
   "metadata": {},
   "outputs": [
    {
     "data": {
      "image/png": "[encoded data removed]",
      "text/plain": [
       "<Figure size 640x480 with 1 Axes>"
      ]
     },
     "metadata": {},
     "output_type": "display_data"
    },
    {
     "name": "stdout",
     "output_type": "stream",
     "text": [
      "7\n"
     ]
    }
   ],
   "source": [
    "test_obj = my_objs[-1]\n",
    "test_obj.plot_grid()\n",
    "\n",
    "obj_segmented = extract_objects(test_obj.get_grid(), method='contour')\n",
    "print(len(obj_segmented))"
   ]
  }
 ],
 "metadata": {
  "kernelspec": {
   "display_name": "arc-291c",
   "language": "python",
   "name": "python3"
  },
  "language_info": {
   "codemirror_mode": {
    "name": "ipython",
    "version": 3
   },
   "file_extension": ".py",
   "mimetype": "text/x-python",
   "name": "python",
   "nbconvert_exporter": "python",
   "pygments_lexer": "ipython3",
   "version": "3.11.7"
  }
 },
 "nbformat": 4,
 "nbformat_minor": 2
}
