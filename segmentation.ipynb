{
 "cells": [
  {
   "cell_type": "markdown",
   "metadata": {
    "vscode": {
     "languageId": "plaintext"
    }
   },
   "source": [
    "# Segmentation Notebook\n",
    "---\n",
    "Notebook to experiment / compare various segmentation algorithms."
   ]
  },
  {
   "cell_type": "code",
   "execution_count": 4,
   "metadata": {},
   "outputs": [],
   "source": [
    "import numpy as np\n",
    "import matplotlib.pyplot as plt\n",
    "\n",
    "import torch\n",
    "from torch.utils.data import DataLoader\n",
    "\n",
    "from load_data import load_dataset\n",
    "from segmentation import extract_objects\n",
    "from objects import ARC_Object\n",
    "from embedding import get_embedding, load_resnet50\n",
    "from util import plot_tensors_with_colors, plot_image_and_mask"
   ]
  },
  {
   "cell_type": "code",
   "execution_count": 5,
   "metadata": {},
   "outputs": [],
   "source": [
    "train_dataset = load_dataset(mode='training')\n",
    "train_dataloader = DataLoader(train_dataset, batch_size=1, shuffle=True)\n",
    "test_dataset = load_dataset(mode='evaluation')\n",
    "test_dataloader = DataLoader(test_dataset, batch_size=1, shuffle=True)"
   ]
  },
  {
   "cell_type": "code",
   "execution_count": 6,
   "metadata": {},
   "outputs": [
    {
     "name": "stdout",
     "output_type": "stream",
     "text": [
      "Problem 855e0971:\n",
      "====================================================================================================\n",
      "\n",
      "Input Image:\n"
     ]
    },
    {
     "data": {
      "image/png": "[encoded data removed]",
      "text/plain": [
       "<Figure size 640x480 with 1 Axes>"
      ]
     },
     "metadata": {},
     "output_type": "display_data"
    },
    {
     "name": "stdout",
     "output_type": "stream",
     "text": [
      "\n",
      "Output Image:\n"
     ]
    },
    {
     "data": {
      "image/png": "[encoded data removed]",
      "text/plain": [
       "<Figure size 640x480 with 1 Axes>"
      ]
     },
     "metadata": {},
     "output_type": "display_data"
    },
    {
     "name": "stdout",
     "output_type": "stream",
     "text": [
      "Further segmented inputs by 4 objects and outputs by 4 objects.\n"
     ]
    }
   ],
   "source": [
    "my_objs = dict()\n",
    "\n",
    "# Main loop processing data\n",
    "for i, data in enumerate(train_dataloader):\n",
    "    id = data['id'][0]\n",
    "    train = data['train']\n",
    "    test = data['test']\n",
    "    \n",
    "    for t in train:\n",
    "        # Will work within numpy for simplicity\n",
    "        input_image = t['input'].squeeze(0).numpy()\n",
    "        output_image = t['output'].squeeze(0).numpy()\n",
    "\n",
    "        # Convert to ARC_Objects and add to our dict\n",
    "        input_object = ARC_Object(input_image, np.ones_like(input_image))\n",
    "        output_object = ARC_Object(output_image, np.ones_like(output_image))\n",
    "        my_objs[id] = {'input': [input_object], 'output': [output_object]}\n",
    "\n",
    "        # Print out problem (input and output)\n",
    "        print(f\"Problem {id}:\\n{'='*100}\")\n",
    "        print(\"\\nInput Image:\")\n",
    "        plot_image_and_mask(input_image)\n",
    "        print(\"\\nOutput Image:\")\n",
    "        plot_image_and_mask(output_image)\n",
    "        \n",
    "        # Extract objects using segmentation\n",
    "        input_extraction = extract_objects(input_object, method='color')\n",
    "        output_extraction = extract_objects(output_object, method='color')\n",
    "        print(f\"Further segmented inputs by {len(input_extraction)} objects and outputs by {len(output_extraction)} objects.\")\n",
    "        \n",
    "        # Add to our dict\n",
    "        my_objs[id]['input'].extend(input_extraction)\n",
    "        my_objs[id]['output'].extend(output_extraction)\n",
    "        break\n",
    "    break"
   ]
  },
  {
   "cell_type": "code",
   "execution_count": 7,
   "metadata": {},
   "outputs": [
    {
     "ename": "KeyError",
     "evalue": "'22233c11'",
     "output_type": "error",
     "traceback": [
      "\u001b[1;31m---------------------------------------------------------------------------\u001b[0m",
      "\u001b[1;31mKeyError\u001b[0m                                  Traceback (most recent call last)",
      "Cell \u001b[1;32mIn[7], line 3\u001b[0m\n\u001b[0;32m      1\u001b[0m problem_id \u001b[38;5;241m=\u001b[39m \u001b[38;5;124m\"\u001b[39m\u001b[38;5;124m22233c11\u001b[39m\u001b[38;5;124m\"\u001b[39m\n\u001b[1;32m----> 3\u001b[0m input_objs \u001b[38;5;241m=\u001b[39m \u001b[43mmy_objs\u001b[49m\u001b[43m[\u001b[49m\u001b[43mproblem_id\u001b[49m\u001b[43m]\u001b[49m[\u001b[38;5;124m'\u001b[39m\u001b[38;5;124minput\u001b[39m\u001b[38;5;124m'\u001b[39m]\n\u001b[0;32m      4\u001b[0m output_objs \u001b[38;5;241m=\u001b[39m my_objs[problem_id][\u001b[38;5;124m'\u001b[39m\u001b[38;5;124moutput\u001b[39m\u001b[38;5;124m'\u001b[39m]\n\u001b[0;32m      5\u001b[0m print_segmented_objects \u001b[38;5;241m=\u001b[39m \u001b[38;5;28;01mTrue\u001b[39;00m\n",
      "\u001b[1;31mKeyError\u001b[0m: '22233c11'"
     ]
    }
   ],
   "source": [
    "problem_id = \"22233c11\"\n",
    "\n",
    "input_objs = my_objs[problem_id]['input']\n",
    "output_objs = my_objs[problem_id]['output']\n",
    "print_segmented_objects = True\n",
    "\n",
    "for obj in input_objs:\n",
    "    print(f\"Source Object:\\n{'='*100}\")\n",
    "    obj.plot_grid()\n",
    "    print(f\"Segmented Objects:\\n{'='*100}\")\n",
    "    new_objs = extract_objects(obj, method='contour', print_on_init=print_segmented_objects)\n",
    "    print(f\"Further segmented into {len(new_objs)} objects\\n\\n\")\n",
    "\n",
    "for obj in output_objs:\n",
    "    print(f\"Source Object:\\n{'='*100}\")\n",
    "    obj.plot_grid()\n",
    "    print(f\"Segmented Objects:\\n{'='*100}\")\n",
    "    new_objs = extract_objects(obj, method='contour', print_on_init=print_segmented_objects)\n",
    "    print(f\"Further segmented into {len(new_objs)} objects\\n\\n\")"
   ]
  }
 ],
 "metadata": {
  "kernelspec": {
   "display_name": "arc",
   "language": "python",
   "name": "python3"
  },
  "language_info": {
   "codemirror_mode": {
    "name": "ipython",
    "version": 3
   },
   "file_extension": ".py",
   "mimetype": "text/x-python",
   "name": "python",
   "nbconvert_exporter": "python",
   "pygments_lexer": "ipython3",
   "version": "3.9.0"
  }
 },
 "nbformat": 4,
 "nbformat_minor": 2
}
