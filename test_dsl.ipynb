{
 "cells": [
  {
   "cell_type": "markdown",
   "metadata": {},
   "source": [
    "Test Notebook for DSL"
   ]
  },
  {
   "cell_type": "code",
   "execution_count": 5,
   "metadata": {},
   "outputs": [],
   "source": [
    "import dsl as dsl\n",
    "from load_data import quick_load\n",
    "from segmentation import extract_objects"
   ]
  },
  {
   "cell_type": "code",
   "execution_count": null,
   "metadata": {},
   "outputs": [],
   "source": [
    "train_objs, test_obj = quick_load('39a8645d', 'training')\n",
    "test_obj['input'].plot_grid()\n",
    "input_extraction = extract_objects(test_obj['input'], method='contour')\n",
    "for o in input_extraction:\n",
    "    o.plot_grid()"
   ]
  },
  {
   "cell_type": "code",
   "execution_count": null,
   "metadata": {},
   "outputs": [],
   "source": [
    "# Most Common\n",
    "new_obj = dsl.most_common(input_extraction)\n",
    "new_obj.plot_grid()"
   ]
  },
  {
   "cell_type": "code",
   "execution_count": null,
   "metadata": {},
   "outputs": [],
   "source": [
    "train_objs, test_obj = quick_load('0607ce86', 'evaluation')\n",
    "example = test_obj['input']\n",
    "example.plot_grid()"
   ]
  },
  {
   "cell_type": "code",
   "execution_count": null,
   "metadata": {},
   "outputs": [],
   "source": [
    "# Remove Loose\n",
    "new_obj = dsl.remove_loose(example)\n",
    "new_obj.plot_grid()"
   ]
  },
  {
   "cell_type": "code",
   "execution_count": null,
   "metadata": {},
   "outputs": [],
   "source": [
    "input_extraction = extract_objects(new_obj, method='contour')\n",
    "for o in input_extraction:\n",
    "    o.plot_grid()"
   ]
  },
  {
   "cell_type": "code",
   "execution_count": null,
   "metadata": {},
   "outputs": [],
   "source": [
    "# Majority\n",
    "new_obj = dsl.majority(input_extraction)\n",
    "new_obj.plot_grid()"
   ]
  },
  {
   "cell_type": "code",
   "execution_count": null,
   "metadata": {},
   "outputs": [],
   "source": [
    "# Color\n",
    "new_obj = dsl.color(example, 4)\n",
    "new_obj.plot_grid()"
   ]
  },
  {
   "cell_type": "code",
   "execution_count": null,
   "metadata": {},
   "outputs": [],
   "source": [
    "# Recolor\n",
    "new_obj = dsl.recolor(example, 8, 4)\n",
    "new_obj.plot_grid()"
   ]
  },
  {
   "cell_type": "code",
   "execution_count": null,
   "metadata": {},
   "outputs": [],
   "source": [
    "# Rotate\n",
    "new_obj = dsl.rotate(example)\n",
    "new_obj.plot_grid()"
   ]
  },
  {
   "cell_type": "code",
   "execution_count": null,
   "metadata": {},
   "outputs": [],
   "source": [
    "# Flip\n",
    "new_obj = dsl.flip(example, 0)\n",
    "new_obj.plot_grid()"
   ]
  },
  {
   "cell_type": "code",
   "execution_count": null,
   "metadata": {},
   "outputs": [],
   "source": [
    "# Or\n",
    "example.plot_grid()\n",
    "test_obj['output'].plot_grid()\n",
    "new_obj = dsl.or_obj(test_obj['input'], test_obj['output'])\n",
    "new_obj.plot_grid()"
   ]
  },
  {
   "cell_type": "code",
   "execution_count": null,
   "metadata": {},
   "outputs": [],
   "source": [
    "# And\n",
    "example.plot_grid()\n",
    "test_obj['output'].plot_grid()\n",
    "new_obj = dsl.and_obj(test_obj['input'], test_obj['output'])\n",
    "new_obj.plot_grid()"
   ]
  },
  {
   "cell_type": "code",
   "execution_count": null,
   "metadata": {},
   "outputs": [],
   "source": [
    "# Crop\n",
    "new_obj = dsl.crop(example, (1, 1), 5, 5)\n",
    "new_obj.plot_grid()"
   ]
  },
  {
   "cell_type": "code",
   "execution_count": 1,
   "metadata": {},
   "outputs": [],
   "source": [
    "from util import visualize_problem"
   ]
  },
  {
   "cell_type": "code",
   "execution_count": 3,
   "metadata": {},
   "outputs": [
    {
     "data": {
      "image/jpeg": "[encoded data removed]",
      "image/png": "[encoded data removed]",
      "text/plain": [
       "<PIL.Image.Image image mode=RGB size=155x435>"
      ]
     },
     "execution_count": 3,
     "metadata": {},
     "output_type": "execute_result"
    }
   ],
   "source": [
    "visualize_problem('0d3d703e')"
   ]
  },
  {
   "cell_type": "code",
   "execution_count": null,
   "metadata": {},
   "outputs": [],
   "source": []
  }
 ],
 "metadata": {
  "kernelspec": {
   "display_name": "arc",
   "language": "python",
   "name": "python3"
  },
  "language_info": {
   "codemirror_mode": {
    "name": "ipython",
    "version": 3
   },
   "file_extension": ".py",
   "mimetype": "text/x-python",
   "name": "python",
   "nbconvert_exporter": "python",
   "pygments_lexer": "ipython3",
   "version": "3.9.0"
  }
 },
 "nbformat": 4,
 "nbformat_minor": 2
}
