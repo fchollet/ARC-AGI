{
 "cells": [
  {
   "cell_type": "markdown",
   "id": "9de830b1-bbca-40bd-bd1c-87c2926973ce",
   "metadata": {},
   "source": [
    "# Vision Transformer for IBOT\n",
    "---\n",
    "Will be implementing a ViT for IBOT. Simple embeddings (embedding table for each int \\[0, 12\\]); positional encodings will be based on sinusoidal function. In the implementation, will build two transformers - a student model and a teacher model. Student is updated using the optimizer; teacher is updated using exponential moving average of student's weights.\n",
    "\n",
    "The way we compute loss uses a sum of two types. We'll use the original image in the teacher model and a transformed version of the image in the student model. The two losses are the following:\n",
    "1) CLS tokens for image $u_t$ and $v_s$ and $u_s$ and $v_t$\n",
    "2) Masked image modeling (MIM) between the outputs of my student transformer and the outputs of my teacher transformer"
   ]
  },
  {
   "cell_type": "code",
   "execution_count": 1,
   "id": "a3ab9232-d366-4929-98f6-6ac2db6dbd09",
   "metadata": {},
   "outputs": [],
   "source": [
    "from vision_transformer import VisionTransformer"
   ]
  },
  {
   "cell_type": "code",
   "execution_count": 2,
   "id": "cb43dd78-77d9-48e3-949c-9c43d88b1572",
   "metadata": {},
   "outputs": [
    {
     "name": "stdout",
     "output_type": "stream",
     "text": [
      "Vision Transformer instantiated with 149,920 parameters.\n"
     ]
    }
   ],
   "source": [
    "ViT = VisionTransformer(\n",
    "    max_img_size=32,\n",
    "    unique_patches=13,\n",
    "    embed_dim=32,\n",
    "    depth=12,\n",
    "    num_heads=4,\n",
    "    mlp_ratio=4.0,\n",
    "    qkv_bias=False,\n",
    "    drop_rate=0.0,\n",
    "    attn_drop_rate=0.0,\n",
    ")"
   ]
  }
 ],
 "metadata": {
  "kernelspec": {
   "display_name": "Python 3 (ipykernel)",
   "language": "python",
   "name": "python3"
  },
  "language_info": {
   "codemirror_mode": {
    "name": "ipython",
    "version": 3
   },
   "file_extension": ".py",
   "mimetype": "text/x-python",
   "name": "python",
   "nbconvert_exporter": "python",
   "pygments_lexer": "ipython3",
   "version": "3.11.7"
  }
 },
 "nbformat": 4,
 "nbformat_minor": 5
}
